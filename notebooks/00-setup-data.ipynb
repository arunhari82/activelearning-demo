{
 "cells": [
  {
   "cell_type": "code",
   "execution_count": null,
   "metadata": {},
   "outputs": [],
   "source": [
    "# setup scratch area to explore data\n",
    "! mkdir -p ../scratch\n",
    "\n",
    "# download kaggle archive\n",
    "# https://www.kaggle.com/datasets/misrakahmed/vegetable-image-dataset?resource=download\n",
    "\n",
    "# extract kaggle dataset\n",
    "! cd ../scratch; unzip -n archive.zip"
   ]
  },
  {
   "attachments": {},
   "cell_type": "markdown",
   "metadata": {},
   "source": [
    "## Archived\n",
    "\n",
    "Archived Code Beyond This Point\n",
    "\n",
    "---"
   ]
  },
  {
   "cell_type": "code",
   "execution_count": null,
   "metadata": {},
   "outputs": [],
   "source": [
    "import os\n",
    "import boto3\n",
    "\n",
    "local_dest_dir = os.path.join(os.getcwd(), \"TrainingData/\")\n",
    "\n",
    "\n",
    "rmtree(local_dest_dir)\n",
    "os.makedirs(local_dest_dir)\n",
    "\n",
    "import urllib3\n",
    "\n",
    "urllib3.disable_warnings()\n",
    "\n",
    "# Fetch all env variable these values will be fetched from Data Connection setup\n",
    "\n",
    "access_key = os.getenv(\"AWS_ACCESS_KEY_ID\")\n",
    "secret = os.getenv(\"AWS_SECRET_ACCESS_KEY\")\n",
    "s3endpoint = os.getenv(\"AWS_S3_ENDPOINT\")\n",
    "bucket_name = os.getenv(\"AWS_S3_BUCKET\")\n",
    "\n",
    "\n",
    "\"\"\"\n",
    " Download all files from local MinIO server to Directory TrainingData\n",
    "\"\"\"\n",
    "\n",
    "s3 = boto3.resource(\n",
    "    \"s3\",\n",
    "    aws_access_key_id=access_key,\n",
    "    aws_secret_access_key=secret,\n",
    "    config=boto3.session.Config(signature_version=\"s3v4\"),\n",
    "    verify=False,\n",
    "    endpoint_url=s3endpoint,\n",
    ")\n",
    "s3_client = s3.meta.client\n",
    "\n",
    "bucket = s3.Bucket(bucket_name)\n",
    "\n",
    "objects = bucket.objects.filter(Prefix=\"/\")\n",
    "for obj in objects:\n",
    "    path, filename = os.path.split(obj.key)\n",
    "    if len(path) != 0 and not os.path.exists(os.path.join(local_dest_dir, path)):\n",
    "        os.makedirs(os.path.join(local_dest_dir, path))\n",
    "    if not obj.key.endswith(\"/\"):\n",
    "        download_to = local_dest_dir + path + \"/\" + filename if path else filename\n",
    "        s3_client.download_file(bucket_name, obj.key, download_to)\n",
    "\n",
    "print(\"Download Completed\")"
   ]
  }
 ],
 "metadata": {
  "kernelspec": {
   "display_name": "venv",
   "language": "python",
   "name": "python3"
  },
  "language_info": {
   "codemirror_mode": {
    "name": "ipython",
    "version": 3
   },
   "file_extension": ".py",
   "mimetype": "text/x-python",
   "name": "python",
   "nbconvert_exporter": "python",
   "pygments_lexer": "ipython3",
   "version": "3.11.3"
  },
  "orig_nbformat": 4
 },
 "nbformat": 4,
 "nbformat_minor": 2
}
